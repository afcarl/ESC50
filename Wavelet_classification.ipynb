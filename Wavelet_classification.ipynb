{
 "cells": [
  {
   "cell_type": "code",
   "execution_count": 1,
   "metadata": {
    "collapsed": false,
    "nbpresent": {
     "id": "4150bd93-1b23-4f93-9c29-8c0817bbcd92"
    }
   },
   "outputs": [],
   "source": [
    "import os\n",
    "import numpy as np\n",
    "import sklearn\n",
    "from sklearn.svm import SVC, LinearSVC\n",
    "from sklearn.model_selection import train_test_split\n",
    "from sklearn.ensemble import RandomForestClassifier\n",
    "from sklearn.decomposition import PCA\n",
    "\n",
    "from scipy.linalg import svd\n",
    "\n",
    "# Librosa for audio\n",
    "import librosa\n",
    "import librosa.display\n",
    "\n",
    "\n",
    "# DISPLAY\n",
    "import matplotlib.pyplot as plt\n",
    "import matplotlib.style as ms\n",
    "ms.use('seaborn-muted')\n",
    "%matplotlib inline\n",
    "import IPython.display\n",
    "\n",
    "import pdb"
   ]
  },
  {
   "cell_type": "code",
   "execution_count": 2,
   "metadata": {
    "collapsed": true,
    "nbpresent": {
     "id": "c7b319b1-310a-4f7b-a2c1-79e7a469acdd"
    }
   },
   "outputs": [],
   "source": [
    "dataset_path = \"/home/lblier/data/ESC-50/\"\n",
    "sampling = 44100\n",
    "X = np.load(\"/home/lblier/preprocessed/input.npy\")\n",
    "y = np.load(\"/home/lblier/preprocessed/output.npy\")"
   ]
  },
  {
   "cell_type": "code",
   "execution_count": 3,
   "metadata": {
    "collapsed": false,
    "nbpresent": {
     "id": "9e9fc3f9-9202-4d74-81bf-eb8681a4ea8d"
    },
    "scrolled": true
   },
   "outputs": [
    {
     "name": "stdout",
     "output_type": "stream",
     "text": [
      "00% computed\n",
      "10% computed\n",
      "20% computed\n",
      "30% computed\n",
      "40% computed\n",
      "50% computed\n",
      "60% computed\n",
      "70% computed\n",
      "80% computed\n",
      "90% computed\n"
     ]
    }
   ],
   "source": [
    "#feat = (lambda y: librosa.core.cqt(y,sr=sampling,real=False))\n",
    "feat = (lambda y: librosa.feature.mfcc(y,sr=sampling))\n",
    "p = 0\n",
    "\n",
    "a = []\n",
    "for i in range(X.shape[0]):\n",
    "    a.append(feat(X[i]))\n",
    "    if (i*10) % X.shape[0] == 0:\n",
    "        print(str((i*10)//X.shape[0])+\"0% computed\")\n",
    "del(X)\n",
    "X_repr = np.stack(a, axis=0)\n",
    "del(a)"
   ]
  },
  {
   "cell_type": "code",
   "execution_count": 4,
   "metadata": {
    "collapsed": false,
    "nbpresent": {
     "id": "a64345b5-7d7e-46d4-b403-f1a5257ef174"
    }
   },
   "outputs": [],
   "source": [
    "X_train, X_test, y_train, y_test = \\\n",
    "    train_test_split(X_repr, y, test_size=0.25, \n",
    "                     random_state=42, stratify=y)\n",
    "del(X_repr)"
   ]
  },
  {
   "cell_type": "code",
   "execution_count": 5,
   "metadata": {
    "collapsed": true
   },
   "outputs": [],
   "source": [
    "class PCA_complex():\n",
    "    def __init__(self, n_components):\n",
    "        self.n_components = n_components\n",
    "        \n",
    "    def fit(self, X):\n",
    "        U, s, V = svd(X, full_matrices=False)\n",
    "        del(U)\n",
    "        self.P = V[:self.n_components,:]\n",
    "        self.s = s\n",
    "        self.explained_variance_ratio_ = s\n",
    "        \n",
    "    def fit_transform(self, X):\n",
    "        k = self.n_components\n",
    "        U, s, V = svd(X, full_matrices=False)\n",
    "        self.P = V[:k,:]\n",
    "        self.s = s\n",
    "        self.explained_variance_ratio_ = s\n",
    "\n",
    "        return np.abs(U[:,:k]*s[:k])\n",
    "        \n",
    "    def transform(self, X):\n",
    "        return np.abs(np.dot(X, self.P.T))"
   ]
  },
  {
   "cell_type": "code",
   "execution_count": 11,
   "metadata": {
    "collapsed": false
   },
   "outputs": [],
   "source": [
    "class PCA_global():\n",
    "    def __init__(self, L1, complex_values = False):\n",
    "        self.L1 = L1\n",
    "        self.complex_values = complex_values\n",
    "        \n",
    "        if complex_values:\n",
    "            self.pca1 = PCA_complex(L1)\n",
    "        else:\n",
    "            self.pca1 = PCA(L1)\n",
    "        \n",
    "        #self.classifier = RandomForestClassifier()\n",
    "        self.classifier = SVC(C=1.,kernel='linear')\n",
    "\n",
    "    \n",
    "    def fit(self, X, y):\n",
    "        X_reshaped = np.reshape(X, (X.shape[0], -1))\n",
    "        X_transformed = self.pca1.fit_transform(X_reshaped)\n",
    "        self.classifier.fit(X_transformed, y)\n",
    "    \n",
    "    def predict(self, X):\n",
    "        X_reshaped = np.reshape(X, (X.shape[0], -1))\n",
    "        X_transformed = self.pca1.transform(X_reshaped)\n",
    "        return self.classifier.predict(X_transformed)\n",
    "        \n",
    "    def score(self, X, y):\n",
    "        X_reshaped = np.reshape(X, (X.shape[0], -1))\n",
    "        X_transformed = self.pca1.transform(X_reshaped)\n",
    "        return self.classifier.score(X_transformed, y)\n",
    "        \n",
    "    def plot_explained_variance_ratio(self):\n",
    "        plt.plot(self.pca1.explained_variance_ratio_)"
   ]
  },
  {
   "cell_type": "code",
   "execution_count": 12,
   "metadata": {
    "collapsed": false
   },
   "outputs": [],
   "source": [
    "class PCA_local():\n",
    "    def __init__(self, L1, complex_values=False):\n",
    "        self.L1 = L1\n",
    "        self.complex_values = complex_values\n",
    "        if complex_values:\n",
    "            self.pca1 = PCA_complex(L1)\n",
    "        else:\n",
    "            self.pca1 = PCA(n_components=L1)\n",
    "            \n",
    "        self.classifier = SVC(C=1.,kernel='linear')\n",
    "        #self.classifier = RandomForestClassifier()\n",
    "\n",
    "        \n",
    "    def fit(self, X, y):\n",
    "        # First put the data into the right shape\n",
    "        n,q,t = X.shape\n",
    "        X_reshaped = np.swapaxes(X, 0,1)\n",
    "        X_reshaped = np.reshape(X_reshaped, \n",
    "                                (X_reshaped.shape[0],-1))\n",
    "        X_reshaped = X_reshaped.T\n",
    "        \n",
    "        # Fit and transform it\n",
    "        X_transformed = self.pca1.fit_transform(X_reshaped)\n",
    "        \n",
    "        # Reshape it\n",
    "        X_transformed = X_transformed.T\n",
    "        X_transformed = np.reshape(X_transformed, \n",
    "                                   (X_transformed.shape[0], n, t))\n",
    "        X_transformed = np.swapaxes(X_transformed, 0,1)\n",
    "        X_transformed = np.reshape(X_transformed, (n, -1))\n",
    "        \n",
    "        self.classifier.fit(X_transformed, y)\n",
    "    \n",
    "    def predict(self, X):\n",
    "        # First put the data into the right shape\n",
    "        n,q,t = X.shape\n",
    "        X_reshaped = np.swapaxes(X, 0,1)\n",
    "        X_reshaped = np.reshape(X_reshaped, \n",
    "                                (X_reshaped.shape[0],-1))\n",
    "        X_reshaped = X_reshaped.T\n",
    "        \n",
    "        # Transform it\n",
    "        X_transformed = self.pca1.transform(X_reshaped)\n",
    "        \n",
    "        # Reshape it\n",
    "        X_transformed = X_transformed.T\n",
    "        X_transformed = np.reshape(X_transformed, \n",
    "                                   (X_transformed.shape[0], n, t))\n",
    "        X_transformed = np.swapaxes(X_transformed, 0,1)\n",
    "        X_transformed = np.reshape(X_transformed, (n, -1))\n",
    "        return self.classifier.predict(X_transformed)\n",
    "        \n",
    "    def score(self, X, y):\n",
    "        # First put the data into the right shape\n",
    "        n,q,t = X.shape\n",
    "        X_reshaped = np.swapaxes(X, 0,1)\n",
    "        X_reshaped = np.reshape(X_reshaped, \n",
    "                                (X_reshaped.shape[0],-1))\n",
    "        X_reshaped = X_reshaped.T\n",
    "        \n",
    "        # Transform it\n",
    "        X_transformed = self.pca1.transform(X_reshaped)\n",
    "\n",
    "        # Reshape it\n",
    "        X_transformed = X_transformed.T\n",
    "        X_transformed = np.reshape(X_transformed, \n",
    "                                   (X_transformed.shape[0], n, t))\n",
    "        X_transformed = np.swapaxes(X_transformed, 0,1)\n",
    "        X_transformed = np.reshape(X_transformed, (n, -1))\n",
    "        return self.classifier.score(X_transformed, y)\n",
    "        \n",
    "    def plot_explained_variance_ratio(self):\n",
    "        plt.plot(self.pca1.explained_variance_ratio_)"
   ]
  },
  {
   "cell_type": "code",
   "execution_count": 27,
   "metadata": {
    "collapsed": false
   },
   "outputs": [],
   "source": [
    "L1 = 3\n",
    "classifier = PCA_local(L1, complex_values=False)\n",
    "classifier.fit(X_train, y_train)"
   ]
  },
  {
   "cell_type": "code",
   "execution_count": 28,
   "metadata": {
    "collapsed": false,
    "nbpresent": {
     "id": "2cc1fa33-185d-4f18-a8e3-4812696e237d"
    }
   },
   "outputs": [],
   "source": [
    "score_train = classifier.score(X_train, y_train)\n",
    "score_test = classifier.score(X_test, y_test)"
   ]
  },
  {
   "cell_type": "code",
   "execution_count": 29,
   "metadata": {
    "collapsed": false,
    "nbpresent": {
     "id": "fb0bc814-de69-427a-997e-567bc7b2e139"
    }
   },
   "outputs": [
    {
     "data": {
      "text/plain": [
       "(1.0, 0.29599999999999999)"
      ]
     },
     "execution_count": 29,
     "metadata": {},
     "output_type": "execute_result"
    }
   ],
   "source": [
    "score_train, score_test"
   ]
  },
  {
   "cell_type": "code",
   "execution_count": 30,
   "metadata": {
    "collapsed": false
   },
   "outputs": [
    {
     "data": {
      "image/png": "[encoded data removed]",
      "text/plain": [
       "<matplotlib.figure.Figure at 0x7f7a3d1c3080>"
      ]
     },
     "metadata": {},
     "output_type": "display_data"
    }
   ],
   "source": [
    "classifier.plot_explained_variance_ratio()"
   ]
  },
  {
   "cell_type": "code",
   "execution_count": null,
   "metadata": {
    "collapsed": true
   },
   "outputs": [],
   "source": []
  }
 ],
 "metadata": {
  "anaconda-cloud": {},
  "kernelspec": {
   "display_name": "Python [conda root]",
   "language": "python",
   "name": "conda-root-py"
  },
  "language_info": {
   "codemirror_mode": {
    "name": "ipython",
    "version": 3
   },
   "file_extension": ".py",
   "mimetype": "text/x-python",
   "name": "python",
   "nbconvert_exporter": "python",
   "pygments_lexer": "ipython3",
   "version": "3.5.2"
  },
  "nbpresent": {
   "slides": {},
   "themes": {}
  }
 },
 "nbformat": 4,
 "nbformat_minor": 1
}
