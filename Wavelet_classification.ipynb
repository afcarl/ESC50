{
 "cells": [
  {
   "cell_type": "code",
   "execution_count": 1,
   "metadata": {
    "collapsed": false,
    "nbpresent": {
     "id": "4150bd93-1b23-4f93-9c29-8c0817bbcd92"
    }
   },
   "outputs": [],
   "source": [
    "import os\n",
    "import numpy as np\n",
    "import sklearn\n",
    "from sklearn.svm import SVC, LinearSVC\n",
    "from sklearn.model_selection import train_test_split\n",
    "from sklearn.ensemble import RandomForestClassifier\n",
    "from os.path import isfile, isdir, join\n",
    "\n",
    "# Librosa for audio\n",
    "import librosa\n",
    "import librosa.display\n",
    "\n",
    "\n",
    "# DISPLAY\n",
    "import matplotlib.pyplot as plt\n",
    "import matplotlib.style as ms\n",
    "ms.use('seaborn-muted')\n",
    "%matplotlib inline\n",
    "import IPython.display\n",
    "\n",
    "import pdb"
   ]
  },
  {
   "cell_type": "code",
   "execution_count": 2,
   "metadata": {
    "collapsed": true,
    "nbpresent": {
     "id": "c7b319b1-310a-4f7b-a2c1-79e7a469acdd"
    }
   },
   "outputs": [],
   "source": [
    "dataset_path = \"/home/lblier/Music/ESC-50/\"\n",
    "orig_sampling = 44100"
   ]
  },
  {
   "cell_type": "code",
   "execution_count": 3,
   "metadata": {
    "collapsed": false,
    "nbpresent": {
     "id": "6e1d9da7-d798-47f2-bdb9-c4ede1fb0906"
    }
   },
   "outputs": [],
   "source": [
    "data_files = {}\n",
    "for cat in os.listdir(dataset_path) :\n",
    "    if isdir(join(dataset_path, cat)):\n",
    "        data_files[cat] = os.listdir(join(dataset_path, cat))\n",
    "n = sum(len(r) for r in data_files.values())"
   ]
  },
  {
   "cell_type": "code",
   "execution_count": 4,
   "metadata": {
    "collapsed": false,
    "nbpresent": {
     "id": "f2431cb0-5e79-4fde-ba0f-9778a287e68f"
    },
    "scrolled": true
   },
   "outputs": [
    {
     "name": "stdout",
     "output_type": "stream",
     "text": [
      "Loading category : 403 - Keyboard typing\n",
      "Loading category : 503 - Siren\n",
      "Loading category : 306 - Footsteps\n",
      "Loading category : 508 - Airplane\n",
      "Loading category : 501 - Helicopter\n",
      "Loading category : 404 - Door - wood creaks\n",
      "Loading category : 107 - Hen\n",
      "Loading category : 504 - Car horn\n",
      "Loading category : 305 - Coughing\n",
      "Loading category : 303 - Clapping\n",
      "Loading category : 408 - Clock alarm\n",
      "Loading category : 207 - Wind\n",
      "Loading category : 505 - Engine\n",
      "Loading category : 302 - Sneezing\n",
      "Loading category : 109 - Sheep\n",
      "Loading category : 309 - Snoring\n",
      "Loading category : 410 - Glass breaking\n",
      "Loading category : 507 - Church bells\n",
      "Loading category : 208 - Pouring water\n",
      "Loading category : 110 - Crow\n",
      "Loading category : 201 - Rain\n",
      "Loading category : 307 - Laughing\n",
      "Loading category : 304 - Breathing\n",
      "Loading category : 202 - Sea waves\n",
      "Loading category : 301 - Crying baby\n",
      "Loading category : 105 - Frog\n",
      "Loading category : 103 - Pig\n",
      "Loading category : 204 - Crickets\n",
      "Loading category : 402 - Mouse click\n",
      "Loading category : 509 - Fireworks\n",
      "Loading category : 506 - Train\n",
      "Loading category : 210 - Thunderstorm\n",
      "Loading category : 406 - Washing machine\n",
      "Loading category : 308 - Brushing teeth\n",
      "Loading category : 401 - Door knock\n",
      "Loading category : 409 - Clock tick\n",
      "Loading category : 502 - Chainsaw\n",
      "Loading category : 101 - Dog\n",
      "Loading category : 203 - Crackling fire\n",
      "Loading category : 102 - Rooster\n",
      "Loading category : 405 - Can opening\n",
      "Loading category : 104 - Cow\n",
      "Loading category : 106 - Cat\n",
      "Loading category : 108 - Insects\n",
      "Loading category : 205 - Chirping birds\n",
      "Loading category : 206 - Water drops\n",
      "Loading category : 310 - Drinking - sipping\n",
      "Loading category : 407 - Vacuum cleaner\n",
      "Loading category : 209 - Toilet flush\n",
      "Loading category : 510 - Hand saw\n"
     ]
    }
   ],
   "source": [
    "cat, files = next(iter(data_files.items()))\n",
    "data = {}\n",
    "for cat, files in data_files.items():\n",
    "    print(\"Loading category : \"+cat)\n",
    "    data[cat] = [librosa.load(join(dataset_path,cat, f), sr=orig_sampling) for f in files]\n",
    "    #data[cat] = [(y, sr) for (y,sr) in data[cat] if sr == orig_sampling]"
   ]
  },
  {
   "cell_type": "code",
   "execution_count": 16,
   "metadata": {
    "collapsed": false
   },
   "outputs": [],
   "source": [
    "data_aligned = {}\n",
    "#sampling = 11000\n",
    "sampling = 44100\n",
    "length_audio = 5\n",
    "m = sampling*length_audio\n",
    "\n",
    "def align_signal(y,m):\n",
    "    if len(y) > m:\n",
    "        return y[:m]\n",
    "    if len(y) < m:\n",
    "        z = np.zeros(m, dtype=np.float32)\n",
    "        q = m//len(y)\n",
    "        for w in range(q):\n",
    "            z[w*len(y):(w+1)*len(y)] = y\n",
    "        z[q*len(y):] = y[:m-len(y)]\n",
    "        \n",
    "        return z\n",
    "    \n",
    "for cat, l in data.items():\n",
    "    data_aligned[cat] = [ \\\n",
    "        (align_signal(librosa.core.resample(y, sr, sampling),m), sampling) \\\n",
    "        for (y,sr) in l \\\n",
    "                        ]"
   ]
  },
  {
   "cell_type": "code",
   "execution_count": 25,
   "metadata": {
    "collapsed": false,
    "nbpresent": {
     "id": "9e9fc3f9-9202-4d74-81bf-eb8681a4ea8d"
    },
    "scrolled": true
   },
   "outputs": [
    {
     "name": "stdout",
     "output_type": "stream",
     "text": [
      "Category : 403 - Keyboard typing\n"
     ]
    },
    {
     "name": "stderr",
     "output_type": "stream",
     "text": [
      "/home/lblier/anaconda3/lib/python3.5/site-packages/numpy/core/numeric.py:482: VisibleDeprecationWarning: using a non-integer number instead of an integer will result in an error in the future\n",
      "  return array(a, dtype, copy=False, order=order)\n"
     ]
    },
    {
     "name": "stdout",
     "output_type": "stream",
     "text": [
      "Category : 503 - Siren\n",
      "Category : 306 - Footsteps\n",
      "Category : 508 - Airplane\n",
      "Category : 501 - Helicopter\n",
      "Category : 404 - Door - wood creaks\n",
      "Category : 107 - Hen\n",
      "Category : 504 - Car horn\n",
      "Category : 305 - Coughing\n",
      "Category : 303 - Clapping\n",
      "Category : 309 - Snoring\n",
      "Category : 505 - Engine\n",
      "Category : 302 - Sneezing\n",
      "Category : 109 - Sheep\n",
      "Category : 410 - Glass breaking\n",
      "Category : 507 - Church bells\n",
      "Category : 208 - Pouring water\n",
      "Category : 110 - Crow\n",
      "Category : 201 - Rain\n",
      "Category : 307 - Laughing\n",
      "Category : 207 - Wind\n",
      "Category : 304 - Breathing\n",
      "Category : 202 - Sea waves\n",
      "Category : 301 - Crying baby\n",
      "Category : 105 - Frog\n",
      "Category : 103 - Pig\n",
      "Category : 408 - Clock alarm\n",
      "Category : 402 - Mouse click\n",
      "Category : 509 - Fireworks\n",
      "Category : 506 - Train\n",
      "Category : 210 - Thunderstorm\n",
      "Category : 406 - Washing machine\n",
      "Category : 308 - Brushing teeth\n",
      "Category : 401 - Door knock\n",
      "Category : 409 - Clock tick\n",
      "Category : 502 - Chainsaw\n",
      "Category : 101 - Dog\n",
      "Category : 203 - Crackling fire\n",
      "Category : 102 - Rooster\n",
      "Category : 405 - Can opening\n",
      "Category : 104 - Cow\n",
      "Category : 106 - Cat\n",
      "Category : 108 - Insects\n",
      "Category : 204 - Crickets\n"
     ]
    },
    {
     "name": "stderr",
     "output_type": "stream",
     "text": [
      "/home/lblier/anaconda3/lib/python3.5/site-packages/librosa/core/pitch.py:148: UserWarning: Trying to estimate tuning from empty frequency set.\n",
      "  warnings.warn('Trying to estimate tuning from empty frequency set.')\n"
     ]
    },
    {
     "name": "stdout",
     "output_type": "stream",
     "text": [
      "Category : 205 - Chirping birds\n",
      "Category : 206 - Water drops\n",
      "Category : 310 - Drinking - sipping\n",
      "Category : 407 - Vacuum cleaner\n",
      "Category : 209 - Toilet flush\n",
      "Category : 510 - Hand saw\n"
     ]
    }
   ],
   "source": [
    "representations = {}\n",
    "feat = (lambda y, sr: librosa.core.cqt(y,sr,real=True))\n",
    "#feat = (lambda y, sr: librosa.feature.mfcc(y,sr=sr))\n",
    "p = 0\n",
    "for cat, l in data_aligned.items():\n",
    "    print(\"Category : \"+cat)\n",
    "    representations[cat] = [feat(y,sr=sr) for (y,sr) in l \\\n",
    "                            if type(y) == np.ndarray]\n",
    "    if p == 0:\n",
    "        p = representations[cat][0].flatten().shape[0]"
   ]
  },
  {
   "cell_type": "code",
   "execution_count": 26,
   "metadata": {
    "collapsed": false,
    "nbpresent": {
     "id": "2f0a699a-5c44-4b25-9e32-eddf7e48da6b"
    }
   },
   "outputs": [],
   "source": [
    "i = 0\n",
    "u = 0\n",
    "y = np.zeros(n)\n",
    "X = np.zeros((n, p))\n",
    "for cat, rep in representations.items():\n",
    "    y[u:u+len(rep)] = i\n",
    "    a = np.stack([x.flatten() for x in rep], axis=0)\n",
    "    X[u:u+len(rep),:] = a\n",
    "    i += 1\n",
    "    u += len(rep)"
   ]
  },
  {
   "cell_type": "code",
   "execution_count": 27,
   "metadata": {
    "collapsed": false,
    "nbpresent": {
     "id": "a64345b5-7d7e-46d4-b403-f1a5257ef174"
    }
   },
   "outputs": [],
   "source": [
    "X_train, X_test, y_train, y_test = \\\n",
    "    train_test_split(X, y, test_size=0.25, random_state=42, stratify=y)"
   ]
  },
  {
   "cell_type": "code",
   "execution_count": 28,
   "metadata": {
    "collapsed": false
   },
   "outputs": [],
   "source": [
    "classifier = SVC(C=1.,kernel='linear')\n",
    "#classifier = RandomForestClassifier()"
   ]
  },
  {
   "cell_type": "code",
   "execution_count": 29,
   "metadata": {
    "collapsed": false,
    "nbpresent": {
     "id": "25183c97-0341-4a3c-b245-e412ac9392c7"
    }
   },
   "outputs": [
    {
     "data": {
      "text/plain": [
       "SVC(C=1.0, cache_size=200, class_weight=None, coef0=0.0,\n",
       "  decision_function_shape=None, degree=3, gamma='auto', kernel='linear',\n",
       "  max_iter=-1, probability=False, random_state=None, shrinking=True,\n",
       "  tol=0.001, verbose=False)"
      ]
     },
     "execution_count": 29,
     "metadata": {},
     "output_type": "execute_result"
    }
   ],
   "source": [
    "classifier.fit(X_train, y_train)"
   ]
  },
  {
   "cell_type": "code",
   "execution_count": 30,
   "metadata": {
    "collapsed": true,
    "nbpresent": {
     "id": "2cc1fa33-185d-4f18-a8e3-4812696e237d"
    }
   },
   "outputs": [],
   "source": [
    "score_train = classifier.score(X_train, y_train)\n",
    "score_test = classifier.score(X_test, y_test)"
   ]
  },
  {
   "cell_type": "code",
   "execution_count": 31,
   "metadata": {
    "collapsed": false,
    "nbpresent": {
     "id": "fb0bc814-de69-427a-997e-567bc7b2e139"
    }
   },
   "outputs": [
    {
     "data": {
      "text/plain": [
       "(1.0, 0.22)"
      ]
     },
     "execution_count": 31,
     "metadata": {},
     "output_type": "execute_result"
    }
   ],
   "source": [
    "score_train, score_test"
   ]
  },
  {
   "cell_type": "code",
   "execution_count": null,
   "metadata": {
    "collapsed": true
   },
   "outputs": [],
   "source": []
  }
 ],
 "metadata": {
  "anaconda-cloud": {},
  "kernelspec": {
   "display_name": "Python [conda root]",
   "language": "python",
   "name": "conda-root-py"
  },
  "language_info": {
   "codemirror_mode": {
    "name": "ipython",
    "version": 3
   },
   "file_extension": ".py",
   "mimetype": "text/x-python",
   "name": "python",
   "nbconvert_exporter": "python",
   "pygments_lexer": "ipython3",
   "version": "3.5.2"
  },
  "nbpresent": {
   "slides": {},
   "themes": {}
  }
 },
 "nbformat": 4,
 "nbformat_minor": 1
}
